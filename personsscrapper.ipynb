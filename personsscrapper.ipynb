{
 "cells": [
  {
   "cell_type": "code",
   "execution_count": null,
   "metadata": {},
   "outputs": [],
   "source": [
    "#web driver\n",
    "from selenium import webdriver\n",
    "from bs4 import BeautifulSoup"
   ]
  },
  {
   "cell_type": "code",
   "execution_count": null,
   "metadata": {},
   "outputs": [],
   "source": [
    "#vyfiltrování všech odkazů, ze kterých chci krást info \n",
    "competitions = [\n",
    "    'Matematická olympiáda - kategorie B',\n",
    "    'Matematická olympiáda - kategorie C',\n",
    "    'Fyzikální olympiáda - kategorie C',\n",
    "    'Fyzikální olympiáda - kategorie D',\n",
    "    'Astronomická olympiáda CD',\n",
    "]\n",
    "\n",
    "driver = webdriver.Firefox()\n",
    "driver.get(\"http://excelence.msmt.cz/homepage/table\")\n",
    "soup = BeautifulSoup(driver.find_element_by_class_name('table_of_contests').get_attribute(\"innerHTML\"), \"html.parser\")\n",
    "\n",
    "addresses = []\n",
    "for link in soup.findAll('a'):\n",
    "    if link.getText() in competitions:\n",
    "        addresses.append(\"http://excelence.msmt.cz\" + link.get('href'))\n",
    "driver.quit()"
   ]
  },
  {
   "cell_type": "code",
   "execution_count": null,
   "metadata": {},
   "outputs": [],
   "source": [
    "#get the names and addresses from the desired webpage\n",
    "driver = webdriver.Firefox()\n",
    "\n",
    "people = []\n",
    "for address in addresses:\n",
    "    driver.get(address)\n",
    "    soup = BeautifulSoup(driver.find_element_by_class_name('spreadsheetContainerReadOnly').get_attribute(\"innerHTML\"), \"html.parser\")\n",
    "    for row in soup.findAll('tr'):\n",
    "        name = row.find('td', attrs={'title':\"name\"})\n",
    "        surname = row.find('td', attrs={'title':\"surname\"})\n",
    "        school = row.find('td', attrs={'title':\"full_school_name\"})\n",
    "        \n",
    "        if name is not None and surname is not None and school is not None and name != \"\" and surname != \"\" and school != \"\":\n",
    "            people.append([name.getText(), surname.getText(), school.getText()])      \n",
    "\n",
    "driver.quit()"
   ]
  },
  {
   "cell_type": "code",
   "execution_count": null,
   "metadata": {},
   "outputs": [],
   "source": [
    "#print the list\n",
    "for student in people:\n",
    "    print(student[0], \" \" , student[1], \"\\t\", student[2])"
   ]
  },
  {
   "cell_type": "code",
   "execution_count": null,
   "metadata": {},
   "outputs": [],
   "source": [
    "#edit the format (merge name and surname), drop duplicates, save as .tsv\n",
    "import pandas as pd\n",
    "peopleDF = pd.DataFrame([[name+\" \"+surname,school] for [name,surname,school] in people])\n",
    "peopleDF = peopleDF.drop_duplicates()\n",
    "peopleDF.to_csv(\"FOMO_CZ.tsv\",sep=\"\\t\",index=False,header=False)\n",
    "peopleDF"
   ]
  }
 ],
 "metadata": {
  "kernelspec": {
   "display_name": "Python 3",
   "language": "python",
   "name": "python3"
  },
  "language_info": {
   "codemirror_mode": {
    "name": "ipython",
    "version": 3
   },
   "file_extension": ".py",
   "mimetype": "text/x-python",
   "name": "python",
   "nbconvert_exporter": "python",
   "pygments_lexer": "ipython3",
   "version": "3.7.1"
  }
 },
 "nbformat": 4,
 "nbformat_minor": 4
}
