{
 "cells": [
  {
   "cell_type": "code",
   "execution_count": 101,
   "metadata": {},
   "outputs": [],
   "source": [
    "#nastavování a zprovozňování driveru\n",
    "from selenium import webdriver\n",
    "from bs4 import BeautifulSoup"
   ]
  },
  {
   "cell_type": "code",
   "execution_count": 102,
   "metadata": {},
   "outputs": [],
   "source": [
    "#vyfiltrování všech odkazů, ze kterých chci krást info \n",
    "souteze = [\n",
    "    'Matematická olympiáda - kategorie B',\n",
    "    'Matematická olympiáda - kategorie C',\n",
    "    'Fyzikální olympiáda - kategorie C',\n",
    "    'Fyzikální olympiáda - kategorie D',\n",
    "    'Středoškolská odborná činnost - obor fyzika',\n",
    "    'Astronomická olympiáda CD',\n",
    "    'Turnaj mladých fyziků'\n",
    "]\n",
    "\n",
    "driver = webdriver.Firefox()\n",
    "driver.get(\"http://excelence.msmt.cz/homepage/table\")\n",
    "soup = BeautifulSoup(driver.find_element_by_class_name('table_of_contests').get_attribute(\"innerHTML\"), \"html.parser\")\n",
    "\n",
    "adresy = []\n",
    "for each in soup.findAll('a'):\n",
    "    if each.getText() in souteze:\n",
    "        adresy.append(\"http://excelence.msmt.cz\" + each.get('href'))"
   ]
  },
  {
   "cell_type": "code",
   "execution_count": 103,
   "metadata": {},
   "outputs": [],
   "source": [
    "#vytáhnutí samotných jmen a adres z příslušné stránky\n",
    "jmenaList = []\n",
    "prijmeniList = []\n",
    "skolyList = []\n",
    "\n",
    "for adresa in adresy:\n",
    "    driver.get(adresa)\n",
    "    soup = BeautifulSoup(driver.find_element_by_class_name('spreadsheetContainerReadOnly').get_attribute(\"innerHTML\"), \"html.parser\")\n",
    "    for each in soup.findAll('tr'):\n",
    "        jmeno = each.find('td', attrs={'title':\"jmeno\"})\n",
    "        if jmeno is not None: #None je jen úplně první, ale nepřišla jsem na to, jak to odchytit v tom for loopu           \n",
    "            jmenaList.append(jmeno.getText())\n",
    "        \n",
    "        prijmeni = each.find('td', attrs={'title':\"prijmeni\"})\n",
    "        if prijmeni is not None: \n",
    "            prijmeniList.append(prijmeni.getText())\n",
    "        \n",
    "        skola = each.find('td', attrs={'title':\"slozenyNazevSkoly\"})\n",
    "        if skola is not None: \n",
    "            skolyList.append(skola.getText())        \n",
    "\n",
    "driver.quit()"
   ]
  },
  {
   "cell_type": "code",
   "execution_count": null,
   "metadata": {},
   "outputs": [],
   "source": [
    "for i in range(len(jmenaList)):\n",
    "    print(jmenaList[i])"
   ]
  },
  {
   "cell_type": "code",
   "execution_count": null,
   "metadata": {},
   "outputs": [],
   "source": [
    "for i in range(len(prijmeniList)):\n",
    "    print(prijmeniList[i])\n"
   ]
  },
  {
   "cell_type": "code",
   "execution_count": null,
   "metadata": {},
   "outputs": [],
   "source": [
    "for i in range(len(skolyList)):\n",
    "    print(skolyList[i])"
   ]
  }
 ],
 "metadata": {
  "kernelspec": {
   "display_name": "Python 3",
   "language": "python",
   "name": "python3"
  },
  "language_info": {
   "codemirror_mode": {
    "name": "ipython",
    "version": 3
   },
   "file_extension": ".py",
   "mimetype": "text/x-python",
   "name": "python",
   "nbconvert_exporter": "python",
   "pygments_lexer": "ipython3",
   "version": "3.7.6"
  }
 },
 "nbformat": 4,
 "nbformat_minor": 4
}
