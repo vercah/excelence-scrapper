{
 "cells": [
  {
   "cell_type": "code",
   "execution_count": null,
   "metadata": {},
   "outputs": [],
   "source": [
    "#nastavování a zprovozňování driveru\n",
    "from selenium import webdriver\n",
    "from bs4 import BeautifulSoup"
   ]
  },
  {
   "cell_type": "code",
   "execution_count": null,
   "metadata": {},
   "outputs": [],
   "source": [
    "#vyfiltrování všech odkazů, ze kterých chci krást info \n",
    "souteze = [\n",
    "    'Matematická olympiáda - kategorie B',\n",
    "    'Matematická olympiáda - kategorie C',\n",
    "    'Fyzikální olympiáda - kategorie C',\n",
    "    'Fyzikální olympiáda - kategorie D',\n",
    "    'Astronomická olympiáda CD',\n",
    "]\n",
    "\n",
    "driver = webdriver.Firefox()\n",
    "driver.get(\"http://excelence.msmt.cz/homepage/table\")\n",
    "soup = BeautifulSoup(driver.find_element_by_class_name('table_of_contests').get_attribute(\"innerHTML\"), \"html.parser\")\n",
    "\n",
    "adresy = []\n",
    "for link in soup.findAll('a'):\n",
    "    if link.getText() in souteze:\n",
    "        adresy.append(\"http://excelence.msmt.cz\" + link.get('href'))\n",
    "driver = quit()"
   ]
  },
  {
   "cell_type": "code",
   "execution_count": null,
   "metadata": {},
   "outputs": [],
   "source": [
    "#vytáhnutí samotných jmen a adres z příslušné stránky\n",
    "driver = webdriver.Firefox()\n",
    "\n",
    "lidi = []\n",
    "for adresa in adresy:\n",
    "    driver.get(adresa)\n",
    "    soup = BeautifulSoup(driver.find_element_by_class_name('spreadsheetContainerReadOnly').get_attribute(\"innerHTML\"), \"html.parser\")\n",
    "    for row in soup.findAll('tr'):\n",
    "        jmeno = row.find('td', attrs={'title':\"jmeno\"})\n",
    "        prijmeni = row.find('td', attrs={'title':\"prijmeni\"})\n",
    "        skola = row.find('td', attrs={'title':\"slozenyNazevSkoly\"})\n",
    "        \n",
    "        if jmeno is not None and prijmeni is not None and skola is not None:\n",
    "            lidi.append([jmeno.getText(), prijmeni.getText(), skola.getText()])      \n",
    "\n",
    "driver.quit()"
   ]
  },
  {
   "cell_type": "code",
   "execution_count": null,
   "metadata": {},
   "outputs": [],
   "source": [
    "#vypsani seznamu\n",
    "for clovek in lidi:\n",
    "    print(clovek[0], \" \" , clovek[1], \"\\t\", clovek[2])\n",
    "    "
   ]
  },
  {
   "cell_type": "code",
   "execution_count": null,
   "metadata": {},
   "outputs": [],
   "source": [
    "#upravit format zaznamu (spojit jmeno a prijmeni), zahodit duplikaty, ulozit do tsv souboru\n",
    "import pandas as pd\n",
    "lidiDF = pd.DataFrame([[jmeno+\" \"+prijmeni,skola] for [jmeno,prijmeni,skola] in lidi])\n",
    "lidiDF = lidiDF.drop_duplicates()\n",
    "lidiDF.to_csv(\"FOMO_CZ.tsv\",sep=\"\\t\",index=False,header=False)\n",
    "lidiDF"
   ]
  },
  {
   "cell_type": "code",
   "execution_count": null,
   "metadata": {},
   "outputs": [],
   "source": [
    "lidi[]"
   ]
  }
 ],
 "metadata": {
  "kernelspec": {
   "display_name": "Python 3",
   "language": "python",
   "name": "python3"
  },
  "language_info": {
   "codemirror_mode": {
    "name": "ipython",
    "version": 3
   },
   "file_extension": ".py",
   "mimetype": "text/x-python",
   "name": "python",
   "nbconvert_exporter": "python",
   "pygments_lexer": "ipython3",
   "version": "3.7.1"
  }
 },
 "nbformat": 4,
 "nbformat_minor": 4
}
